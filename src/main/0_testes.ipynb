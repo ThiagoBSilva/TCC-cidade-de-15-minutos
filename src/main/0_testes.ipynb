{
 "cells": [
  {
   "cell_type": "code",
   "execution_count": 1,
   "metadata": {},
   "outputs": [],
   "source": [
    "from client.IBGEClient import IBGEClient\n",
    "from model.constants.ParametrosConstantes import ParametrosConstantes\n",
    "from repository.UnidadeFederativaRepository import UnidadeFederativaRepository\n",
    "from util.BancoDadosUtil import BancoDadosUtil\n",
    "from util.LoggerUtil import LoggerUtil\n",
    "from util.WarningUtil import WarningUtil\n",
    "\n",
    "WarningUtil.ignorar_warning(categoria=DeprecationWarning)\n",
    "WarningUtil.ignorar_warning(categoria=UserWarning)\n",
    "\n",
    "log = LoggerUtil.configurar_logger(arquivo_log=\"../../logs/0_testes.log\")"
   ]
  },
  {
   "cell_type": "code",
   "execution_count": 2,
   "metadata": {},
   "outputs": [],
   "source": [
    "unidade_federativa_repository = UnidadeFederativaRepository()"
   ]
  },
  {
   "cell_type": "code",
   "execution_count": 3,
   "metadata": {},
   "outputs": [
    {
     "name": "stdout",
     "output_type": "stream",
     "text": [
      "O valor do atributo entidade é t_unidade_federativa.\n"
     ]
    }
   ],
   "source": [
    "unidade_federativa_repository.teste()"
   ]
  },
  {
   "cell_type": "code",
   "execution_count": null,
   "metadata": {},
   "outputs": [],
   "source": [
    "ibge_client = IBGEClient()\n",
    "ibge_client.obter_shapefile_unidades_federativas()"
   ]
  },
  {
   "cell_type": "code",
   "execution_count": null,
   "metadata": {},
   "outputs": [],
   "source": [
    "log.info(msg=\"Iniciando o processamento da carga inicial.\")\n",
    "\n",
    "conexao_bd = BancoDadosUtil.estabelecer_conexao_banco()"
   ]
  },
  {
   "cell_type": "code",
   "execution_count": null,
   "metadata": {},
   "outputs": [],
   "source": [
    "log.info(msg=\"Encerrando a conexão com o banco de dados.\")\n",
    "\n",
    "BancoDadosUtil.encerrar_conexao_banco(conexao_bd)"
   ]
  }
 ],
 "metadata": {
  "kernelspec": {
   "display_name": "base",
   "language": "python",
   "name": "python3"
  },
  "language_info": {
   "codemirror_mode": {
    "name": "ipython",
    "version": 3
   },
   "file_extension": ".py",
   "mimetype": "text/x-python",
   "name": "python",
   "nbconvert_exporter": "python",
   "pygments_lexer": "ipython3",
   "version": "3.11.5"
  }
 },
 "nbformat": 4,
 "nbformat_minor": 2
}
