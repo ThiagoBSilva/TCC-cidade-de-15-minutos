{
 "cells": [
  {
   "cell_type": "code",
   "execution_count": null,
   "metadata": {},
   "outputs": [],
   "source": [
    "from component.CalculoIndiceMunicipioComponent import CalculoIndiceMunicipioComponent\n",
    "from model.constants.ParametrosConstantes import ParametrosConstantes\n",
    "from service.MunicipioService import MunicipioService\n",
    "from util.BancoDadosUtil import BancoDadosUtil\n",
    "from util.DataFrameUtil import DataFrameUtil\n",
    "from util.LoggerUtil import LoggerUtil\n",
    "from util.WarningUtil import WarningUtil\n",
    "\n",
    "from pandas import DataFrame\n",
    "from time import sleep"
   ]
  },
  {
   "cell_type": "code",
   "execution_count": null,
   "metadata": {},
   "outputs": [],
   "source": [
    "# Configurações iniciais\n",
    "\n",
    "WarningUtil.ignorar_warning(categoria=DeprecationWarning)\n",
    "WarningUtil.ignorar_warning(categoria=UserWarning)\n",
    "\n",
    "log = LoggerUtil.configurar_logger(arquivo_log=ParametrosConstantes.CAMINHO_LOG_CALCULO_INDICE_MUNICIPIO)"
   ]
  },
  {
   "cell_type": "code",
   "execution_count": null,
   "metadata": {},
   "outputs": [],
   "source": [
    "calculo_indice_component = CalculoIndiceMunicipioComponent()\n",
    "municipio_service = MunicipioService()"
   ]
  },
  {
   "cell_type": "code",
   "execution_count": null,
   "metadata": {},
   "outputs": [],
   "source": [
    "while True:\n",
    "    log.info(msg=\"Iniciando o cálculo do indíce de 15 minutos dos municípios.\")\n",
    "    conexao_bd = BancoDadosUtil.estabelecer_conexao_banco()\n",
    "\n",
    "    if calculo_indice_component.verificar_nao_existencia_registros_pendentes(conexao_bd):\n",
    "        BancoDadosUtil.encerrar_conexao_banco(conexao_bd)\n",
    "        break\n",
    "    \n",
    "    log.info(msg=f\"Buscando os próximos {ParametrosConstantes.BATCH_QTDE_REGISTROS_ETAPA_CALCULO_INDICE_MUNICIPIO} municípios a serem processados.\")\n",
    "\n",
    "    df_municipio = municipio_service.buscar_registros_pendentes_calculo_indice_15min(conexao_bd)\n",
    "\n",
    "    log.info(msg=\"Calculando o índice de 15 minutos para os municípios.\")\n",
    "\n",
    "    df_resultado = DataFrameUtil.processar_dataframe_dask(\n",
    "        df=df_municipio,\n",
    "        funcao=calculo_indice_component.processar_particao_dask,\n",
    "        meta=DataFrame(columns=[\"codigo_municipio\", \"lista_dict_historico_erro\", \"status\"]),\n",
    "        qtde_particoes=ParametrosConstantes.BATCH_QTDE_PARTICOES_DASK_ETAPA_CALCULO_INDICE_MUNICIPIO,\n",
    "        conexao_bd=conexao_bd\n",
    "    )\n",
    "\n",
    "    calculo_indice_component.persistir_resultado(df_resultado, conexao_bd)\n",
    "\n",
    "    BancoDadosUtil.encerrar_conexao_banco(conexao_bd)\n",
    "    sleep(10)"
   ]
  }
 ],
 "metadata": {
  "kernelspec": {
   "display_name": "base",
   "language": "python",
   "name": "python3"
  },
  "language_info": {
   "codemirror_mode": {
    "name": "ipython",
    "version": 3
   },
   "file_extension": ".py",
   "mimetype": "text/x-python",
   "name": "python",
   "nbconvert_exporter": "python",
   "pygments_lexer": "ipython3",
   "version": "3.11.5"
  }
 },
 "nbformat": 4,
 "nbformat_minor": 2
}
