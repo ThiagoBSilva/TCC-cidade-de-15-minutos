{
 "cells": [
  {
   "cell_type": "code",
   "execution_count": null,
   "metadata": {},
   "outputs": [],
   "source": [
    "from component.CalculoIndiceUnidadeFederativaComponent import CalculoIndiceUnidadeFederativaComponent\n",
    "from model.constants.ParametrosConstantes import ParametrosConstantes\n",
    "from service.UnidadeFederativaService import UnidadeFederativaService\n",
    "from util.BancoDadosUtil import BancoDadosUtil\n",
    "from util.DataFrameUtil import DataFrameUtil\n",
    "from util.LoggerUtil import LoggerUtil\n",
    "from util.WarningUtil import WarningUtil\n",
    "\n",
    "from pandas import DataFrame\n",
    "from time import sleep"
   ]
  },
  {
   "cell_type": "code",
   "execution_count": null,
   "metadata": {},
   "outputs": [],
   "source": [
    "# Configurações iniciais\n",
    "\n",
    "WarningUtil.ignorar_warning(categoria=DeprecationWarning)\n",
    "WarningUtil.ignorar_warning(categoria=UserWarning)\n",
    "\n",
    "log = LoggerUtil.configurar_logger(arquivo_log=ParametrosConstantes.CAMINHO_LOG_CALCULO_INDICE_UNIDADE_FEDERATIVA)"
   ]
  },
  {
   "cell_type": "code",
   "execution_count": null,
   "metadata": {},
   "outputs": [],
   "source": [
    "calculo_indice_component = CalculoIndiceUnidadeFederativaComponent()\n",
    "unidade_federativa_service = UnidadeFederativaService()"
   ]
  },
  {
   "cell_type": "code",
   "execution_count": null,
   "metadata": {},
   "outputs": [],
   "source": [
    "while True:\n",
    "    log.info(msg=\"Iniciando o cálculo do indíce de 15 minutos das unidades federativas.\")\n",
    "    conexao_bd = BancoDadosUtil.estabelecer_conexao_banco()\n",
    "\n",
    "    if calculo_indice_component.verificar_nao_existencia_registros_pendentes(conexao_bd):\n",
    "        BancoDadosUtil.encerrar_conexao_banco(conexao_bd)\n",
    "        break\n",
    "\n",
    "    df_municipio = unidade_federativa_service.buscar_registros_pendentes_calculo_indice_15min(conexao_bd)\n",
    "\n",
    "    log.info(msg=\"Calculando o índice de 15 minutos para as unidades federativas.\")\n",
    "\n",
    "    df_resultado = DataFrameUtil.processar_dataframe_dask(\n",
    "        df=df_municipio,\n",
    "        funcao=calculo_indice_component.processar_particao_dask,\n",
    "        meta=DataFrame(columns=[\"codigo_unidade_federativa\", \"lista_dict_historico_erro\", \"status\"]),\n",
    "        qtde_particoes=1,\n",
    "        conexao_bd=conexao_bd\n",
    "    )\n",
    "\n",
    "    calculo_indice_component.persistir_resultado(df_resultado, conexao_bd)\n",
    "\n",
    "    BancoDadosUtil.encerrar_conexao_banco(conexao_bd)\n",
    "    sleep(10)"
   ]
  }
 ],
 "metadata": {
  "kernelspec": {
   "display_name": "base",
   "language": "python",
   "name": "python3"
  },
  "language_info": {
   "codemirror_mode": {
    "name": "ipython",
    "version": 3
   },
   "file_extension": ".py",
   "mimetype": "text/x-python",
   "name": "python",
   "nbconvert_exporter": "python",
   "pygments_lexer": "ipython3",
   "version": "3.11.5"
  }
 },
 "nbformat": 4,
 "nbformat_minor": 2
}
