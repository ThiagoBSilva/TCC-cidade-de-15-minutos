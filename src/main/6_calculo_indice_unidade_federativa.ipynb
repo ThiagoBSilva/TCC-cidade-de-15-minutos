{
 "cells": [
  {
   "cell_type": "code",
   "execution_count": 1,
   "metadata": {},
   "outputs": [],
   "source": [
    "from component.CalculoIndiceUnidadeFederativaComponent import CalculoIndiceUnidadeFederativaComponent\n",
    "from model.constants.ParametrosConstantes import ParametrosConstantes\n",
    "from service.UnidadeFederativaService import UnidadeFederativaService\n",
    "from util.BancoDadosUtil import BancoDadosUtil\n",
    "from util.DataFrameUtil import DataFrameUtil\n",
    "from util.LoggerUtil import LoggerUtil\n",
    "from util.WarningUtil import WarningUtil\n",
    "\n",
    "from pandas import DataFrame\n",
    "from time import sleep"
   ]
  },
  {
   "cell_type": "code",
   "execution_count": 2,
   "metadata": {},
   "outputs": [],
   "source": [
    "# Configurações iniciais\n",
    "\n",
    "WarningUtil.ignorar_warning(categoria=DeprecationWarning)\n",
    "WarningUtil.ignorar_warning(categoria=UserWarning)\n",
    "\n",
    "log = LoggerUtil.configurar_logger(arquivo_log=ParametrosConstantes.CAMINHO_LOG_CALCULO_INDICE_UNIDADE_FEDERATIVA)"
   ]
  },
  {
   "cell_type": "code",
   "execution_count": 3,
   "metadata": {},
   "outputs": [],
   "source": [
    "calculo_indice_component = CalculoIndiceUnidadeFederativaComponent()\n",
    "unidade_federativa_service = UnidadeFederativaService()"
   ]
  },
  {
   "cell_type": "code",
   "execution_count": 4,
   "metadata": {},
   "outputs": [
    {
     "name": "stderr",
     "output_type": "stream",
     "text": [
      "2024-07-08 12:04:14,165 - INFO - 2218751824 - Iniciando o cálculo do indíce de 15 minutos das unidades federativas.\n",
      "2024-07-08 12:04:14,428 - INFO - BancoDadosUtil - A conexão com o banco de dados BDTCCPRD foi estabelecida com sucesso.\n",
      "2024-07-08 12:04:14,428 - INFO - CalculoIndiceUnidadeFederativaComponent - Há um total de 27 unidades federativas a serem processadas.\n",
      "2024-07-08 12:04:14,428 - INFO - 2218751824 - Calculando o índice de 15 minutos para os municípios.\n",
      "2024-07-08 12:04:15,287 - INFO - CalculoIndiceUnidadeFederativaComponent - Calculando índice de 15 minutos para a unidade federativa 11 - Rondônia.\n",
      "2024-07-08 12:04:15,308 - ERROR - CalculoIndiceService - Houve um erro ao calcular o índice de 15 minutos para a unidade_federativa 11. Erro: IntegrityError na linha 30 do arquivo c:\\Users\\thiag\\Documents\\GitHub\\TCC-cidade-de-15-minutos\\src\\main\\service\\CalculoIndiceService.py: (psycopg2.errors.UniqueViolation) ERRO:  duplicar valor da chave viola a restrição de unicidade \"t_indice_unidade_federativa_pkey\"\n",
      "DETAIL:  Chave (codigo_unidade_federativa, codigo_modalidade_transporte)=(11, 1) já existe.\n",
      "\n",
      "[SQL: \n",
      "        INSERT INTO t_indice_unidade_federativa (codigo_unidade_federativa, codigo_modalidade_transporte, indice)\n",
      "        SELECT\n",
      "            municipio.codigo_unidade_federativa,\n",
      "            codigo_modalidade_transporte,\n",
      "            ROUND(SUM(indice_mun.indice) / COUNT(0), 2) AS indice\n",
      "        FROM t_indice_municipio indice_mun\n",
      "        INNER JOIN t_municipio municipio\n",
      "            ON indice_mun.codigo_municipio = municipio.codigo\n",
      "        WHERE municipio.codigo_unidade_federativa = %(codigo_unidade_federativa)s\n",
      "        GROUP BY\n",
      "            municipio.codigo_unidade_federativa,\n",
      "            indice_mun.codigo_modalidade_transporte;\n",
      "    ]\n",
      "[parameters: {'codigo_unidade_federativa': 11}]\n",
      "(Background on this error at: https://sqlalche.me/e/14/gkpj).\n",
      "2024-07-08 12:04:15,309 - ERROR - CalculoIndiceUnidadeFederativaComponent - Houve um erro ao calcular o índice de 15 minutos para a unidade federativa 11 - Rondônia. Erro: IntegrityError na linha 41 do arquivo c:\\Users\\thiag\\Documents\\GitHub\\TCC-cidade-de-15-minutos\\src\\main\\component\\CalculoIndiceUnidadeFederativaComponent.py: (psycopg2.errors.UniqueViolation) ERRO:  duplicar valor da chave viola a restrição de unicidade \"t_indice_unidade_federativa_pkey\"\n",
      "DETAIL:  Chave (codigo_unidade_federativa, codigo_modalidade_transporte)=(11, 1) já existe.\n",
      "\n",
      "[SQL: \n",
      "        INSERT INTO t_indice_unidade_federativa (codigo_unidade_federativa, codigo_modalidade_transporte, indice)\n",
      "        SELECT\n",
      "            municipio.codigo_unidade_federativa,\n",
      "            codigo_modalidade_transporte,\n",
      "            ROUND(SUM(indice_mun.indice) / COUNT(0), 2) AS indice\n",
      "        FROM t_indice_municipio indice_mun\n",
      "        INNER JOIN t_municipio municipio\n",
      "            ON indice_mun.codigo_municipio = municipio.codigo\n",
      "        WHERE municipio.codigo_unidade_federativa = %(codigo_unidade_federativa)s\n",
      "        GROUP BY\n",
      "            municipio.codigo_unidade_federativa,\n",
      "            indice_mun.codigo_modalidade_transporte;\n",
      "    ]\n",
      "[parameters: {'codigo_unidade_federativa': 11}]\n",
      "(Background on this error at: https://sqlalche.me/e/14/gkpj).\n",
      "2024-07-08 12:04:15,320 - INFO - CalculoIndiceUnidadeFederativaComponent - Calculando índice de 15 minutos para a unidade federativa 12 - Acre.\n",
      "2024-07-08 12:04:15,325 - INFO - CalculoIndiceUnidadeFederativaComponent - O índice de 15 minutos foi calculado com sucesso para a unidade federativa 12 - Acre.\n",
      "2024-07-08 12:04:15,326 - INFO - CalculoIndiceUnidadeFederativaComponent - Calculando índice de 15 minutos para a unidade federativa 13 - Amazonas.\n",
      "2024-07-08 12:04:15,330 - INFO - CalculoIndiceUnidadeFederativaComponent - O índice de 15 minutos foi calculado com sucesso para a unidade federativa 13 - Amazonas.\n",
      "2024-07-08 12:04:15,331 - INFO - CalculoIndiceUnidadeFederativaComponent - Calculando índice de 15 minutos para a unidade federativa 14 - Roraima.\n",
      "2024-07-08 12:04:15,334 - INFO - CalculoIndiceUnidadeFederativaComponent - O índice de 15 minutos foi calculado com sucesso para a unidade federativa 14 - Roraima.\n",
      "2024-07-08 12:04:15,335 - INFO - CalculoIndiceUnidadeFederativaComponent - Calculando índice de 15 minutos para a unidade federativa 15 - Pará.\n",
      "2024-07-08 12:04:15,338 - INFO - CalculoIndiceUnidadeFederativaComponent - O índice de 15 minutos foi calculado com sucesso para a unidade federativa 15 - Pará.\n",
      "2024-07-08 12:04:15,340 - INFO - CalculoIndiceUnidadeFederativaComponent - Calculando índice de 15 minutos para a unidade federativa 16 - Amapá.\n",
      "2024-07-08 12:04:15,344 - INFO - CalculoIndiceUnidadeFederativaComponent - O índice de 15 minutos foi calculado com sucesso para a unidade federativa 16 - Amapá.\n",
      "2024-07-08 12:04:15,345 - INFO - CalculoIndiceUnidadeFederativaComponent - Calculando índice de 15 minutos para a unidade federativa 17 - Tocantins.\n",
      "2024-07-08 12:04:15,349 - INFO - CalculoIndiceUnidadeFederativaComponent - O índice de 15 minutos foi calculado com sucesso para a unidade federativa 17 - Tocantins.\n",
      "2024-07-08 12:04:15,351 - INFO - CalculoIndiceUnidadeFederativaComponent - Calculando índice de 15 minutos para a unidade federativa 21 - Maranhão.\n",
      "2024-07-08 12:04:15,354 - INFO - CalculoIndiceUnidadeFederativaComponent - O índice de 15 minutos foi calculado com sucesso para a unidade federativa 21 - Maranhão.\n",
      "2024-07-08 12:04:15,356 - INFO - CalculoIndiceUnidadeFederativaComponent - Calculando índice de 15 minutos para a unidade federativa 22 - Piauí.\n",
      "2024-07-08 12:04:15,360 - INFO - CalculoIndiceUnidadeFederativaComponent - O índice de 15 minutos foi calculado com sucesso para a unidade federativa 22 - Piauí.\n",
      "2024-07-08 12:04:15,361 - INFO - CalculoIndiceUnidadeFederativaComponent - Calculando índice de 15 minutos para a unidade federativa 23 - Ceará.\n",
      "2024-07-08 12:04:15,369 - INFO - CalculoIndiceUnidadeFederativaComponent - O índice de 15 minutos foi calculado com sucesso para a unidade federativa 23 - Ceará.\n",
      "2024-07-08 12:04:15,371 - INFO - CalculoIndiceUnidadeFederativaComponent - Calculando índice de 15 minutos para a unidade federativa 24 - Rio Grande do Norte.\n",
      "2024-07-08 12:04:15,375 - INFO - CalculoIndiceUnidadeFederativaComponent - O índice de 15 minutos foi calculado com sucesso para a unidade federativa 24 - Rio Grande do Norte.\n",
      "2024-07-08 12:04:15,376 - INFO - CalculoIndiceUnidadeFederativaComponent - Calculando índice de 15 minutos para a unidade federativa 25 - Paraíba.\n",
      "2024-07-08 12:04:15,384 - INFO - CalculoIndiceUnidadeFederativaComponent - O índice de 15 minutos foi calculado com sucesso para a unidade federativa 25 - Paraíba.\n",
      "2024-07-08 12:04:15,385 - INFO - CalculoIndiceUnidadeFederativaComponent - Calculando índice de 15 minutos para a unidade federativa 26 - Pernambuco.\n",
      "2024-07-08 12:04:15,389 - INFO - CalculoIndiceUnidadeFederativaComponent - O índice de 15 minutos foi calculado com sucesso para a unidade federativa 26 - Pernambuco.\n",
      "2024-07-08 12:04:15,391 - INFO - CalculoIndiceUnidadeFederativaComponent - Calculando índice de 15 minutos para a unidade federativa 27 - Alagoas.\n",
      "2024-07-08 12:04:15,398 - INFO - CalculoIndiceUnidadeFederativaComponent - O índice de 15 minutos foi calculado com sucesso para a unidade federativa 27 - Alagoas.\n",
      "2024-07-08 12:04:15,400 - INFO - CalculoIndiceUnidadeFederativaComponent - Calculando índice de 15 minutos para a unidade federativa 28 - Sergipe.\n",
      "2024-07-08 12:04:15,404 - INFO - CalculoIndiceUnidadeFederativaComponent - O índice de 15 minutos foi calculado com sucesso para a unidade federativa 28 - Sergipe.\n",
      "2024-07-08 12:04:15,405 - INFO - CalculoIndiceUnidadeFederativaComponent - Calculando índice de 15 minutos para a unidade federativa 29 - Bahia.\n",
      "2024-07-08 12:04:15,409 - INFO - CalculoIndiceUnidadeFederativaComponent - O índice de 15 minutos foi calculado com sucesso para a unidade federativa 29 - Bahia.\n",
      "2024-07-08 12:04:15,411 - INFO - CalculoIndiceUnidadeFederativaComponent - Calculando índice de 15 minutos para a unidade federativa 31 - Minas Gerais.\n",
      "2024-07-08 12:04:15,417 - INFO - CalculoIndiceUnidadeFederativaComponent - O índice de 15 minutos foi calculado com sucesso para a unidade federativa 31 - Minas Gerais.\n",
      "2024-07-08 12:04:15,419 - INFO - CalculoIndiceUnidadeFederativaComponent - Calculando índice de 15 minutos para a unidade federativa 32 - Espírito Santo.\n",
      "2024-07-08 12:04:15,423 - INFO - CalculoIndiceUnidadeFederativaComponent - O índice de 15 minutos foi calculado com sucesso para a unidade federativa 32 - Espírito Santo.\n",
      "2024-07-08 12:04:15,424 - INFO - CalculoIndiceUnidadeFederativaComponent - Calculando índice de 15 minutos para a unidade federativa 33 - Rio de Janeiro.\n",
      "2024-07-08 12:04:15,429 - INFO - CalculoIndiceUnidadeFederativaComponent - O índice de 15 minutos foi calculado com sucesso para a unidade federativa 33 - Rio de Janeiro.\n",
      "2024-07-08 12:04:15,432 - INFO - CalculoIndiceUnidadeFederativaComponent - Calculando índice de 15 minutos para a unidade federativa 35 - São Paulo.\n",
      "2024-07-08 12:04:15,438 - INFO - CalculoIndiceUnidadeFederativaComponent - O índice de 15 minutos foi calculado com sucesso para a unidade federativa 35 - São Paulo.\n",
      "2024-07-08 12:04:15,439 - INFO - CalculoIndiceUnidadeFederativaComponent - Calculando índice de 15 minutos para a unidade federativa 41 - Paraná.\n",
      "2024-07-08 12:04:15,446 - INFO - CalculoIndiceUnidadeFederativaComponent - O índice de 15 minutos foi calculado com sucesso para a unidade federativa 41 - Paraná.\n",
      "2024-07-08 12:04:15,447 - INFO - CalculoIndiceUnidadeFederativaComponent - Calculando índice de 15 minutos para a unidade federativa 42 - Santa Catarina.\n",
      "2024-07-08 12:04:15,453 - INFO - CalculoIndiceUnidadeFederativaComponent - O índice de 15 minutos foi calculado com sucesso para a unidade federativa 42 - Santa Catarina.\n",
      "2024-07-08 12:04:15,454 - INFO - CalculoIndiceUnidadeFederativaComponent - Calculando índice de 15 minutos para a unidade federativa 43 - Rio Grande do Sul.\n",
      "2024-07-08 12:04:15,459 - INFO - CalculoIndiceUnidadeFederativaComponent - O índice de 15 minutos foi calculado com sucesso para a unidade federativa 43 - Rio Grande do Sul.\n",
      "2024-07-08 12:04:15,461 - INFO - CalculoIndiceUnidadeFederativaComponent - Calculando índice de 15 minutos para a unidade federativa 50 - Mato Grosso do Sul.\n",
      "2024-07-08 12:04:15,468 - INFO - CalculoIndiceUnidadeFederativaComponent - O índice de 15 minutos foi calculado com sucesso para a unidade federativa 50 - Mato Grosso do Sul.\n",
      "2024-07-08 12:04:15,470 - INFO - CalculoIndiceUnidadeFederativaComponent - Calculando índice de 15 minutos para a unidade federativa 51 - Mato Grosso.\n",
      "2024-07-08 12:04:15,476 - INFO - CalculoIndiceUnidadeFederativaComponent - O índice de 15 minutos foi calculado com sucesso para a unidade federativa 51 - Mato Grosso.\n",
      "2024-07-08 12:04:15,477 - INFO - CalculoIndiceUnidadeFederativaComponent - Calculando índice de 15 minutos para a unidade federativa 52 - Goiás.\n",
      "2024-07-08 12:04:15,485 - INFO - CalculoIndiceUnidadeFederativaComponent - O índice de 15 minutos foi calculado com sucesso para a unidade federativa 52 - Goiás.\n",
      "2024-07-08 12:04:15,487 - INFO - CalculoIndiceUnidadeFederativaComponent - Calculando índice de 15 minutos para a unidade federativa 53 - Distrito Federal.\n",
      "2024-07-08 12:04:15,490 - INFO - CalculoIndiceUnidadeFederativaComponent - O índice de 15 minutos foi calculado com sucesso para a unidade federativa 53 - Distrito Federal.\n",
      "2024-07-08 12:04:15,493 - INFO - CalculoIndiceUnidadeFederativaComponent - Persistindo os dados processados na base.\n",
      "2024-07-08 12:04:15,556 - INFO - CalculoIndiceUnidadeFederativaComponent - Os dados foram persistidos com sucesso.\n",
      "2024-07-08 12:04:15,557 - INFO - BancoDadosUtil - Encerrando a conexão com o banco de dados.\n",
      "2024-07-08 12:04:15,559 - INFO - BancoDadosUtil - A conexão com o banco de dados foi encerrada com sucesso.\n",
      "2024-07-08 12:04:25,563 - INFO - 2218751824 - Iniciando o cálculo do indíce de 15 minutos das unidades federativas.\n",
      "2024-07-08 12:04:25,649 - INFO - BancoDadosUtil - A conexão com o banco de dados BDTCCPRD foi estabelecida com sucesso.\n",
      "2024-07-08 12:04:25,649 - INFO - CalculoIndiceUnidadeFederativaComponent - Há um total de 0 unidades federativas a serem processadas.\n"
     ]
    }
   ],
   "source": [
    "while True:\n",
    "    log.info(msg=\"Iniciando o cálculo do indíce de 15 minutos das unidades federativas.\")\n",
    "    conexao_bd = BancoDadosUtil.estabelecer_conexao_banco()\n",
    "\n",
    "    if calculo_indice_component.verificar_nao_existencia_registros_pendentes(conexao_bd):\n",
    "        break\n",
    "\n",
    "    df_municipio = unidade_federativa_service.buscar_registros_pendentes_calculo_indice_15min(conexao_bd)\n",
    "\n",
    "    log.info(msg=\"Calculando o índice de 15 minutos para os municípios.\")\n",
    "\n",
    "    df_resultado = DataFrameUtil.processar_dataframe_dask(\n",
    "        df=df_municipio,\n",
    "        funcao=calculo_indice_component.processar_particao_dask,\n",
    "        meta=DataFrame(columns=[\"codigo_unidade_federativa\", \"lista_dict_historico_erro\", \"status\"]),\n",
    "        qtde_particoes=1,\n",
    "        conexao_bd=conexao_bd\n",
    "    )\n",
    "\n",
    "    calculo_indice_component.persistir_resultado(df_resultado, conexao_bd)\n",
    "\n",
    "    BancoDadosUtil.encerrar_conexao_banco(conexao_bd)\n",
    "    sleep(10)"
   ]
  },
  {
   "cell_type": "code",
   "execution_count": 5,
   "metadata": {},
   "outputs": [
    {
     "name": "stderr",
     "output_type": "stream",
     "text": [
      "2024-07-08 12:04:25,679 - INFO - BancoDadosUtil - Encerrando a conexão com o banco de dados.\n",
      "2024-07-08 12:04:25,682 - INFO - BancoDadosUtil - A conexão com o banco de dados foi encerrada com sucesso.\n"
     ]
    }
   ],
   "source": [
    "BancoDadosUtil.encerrar_conexao_banco(conexao_bd)"
   ]
  }
 ],
 "metadata": {
  "kernelspec": {
   "display_name": "base",
   "language": "python",
   "name": "python3"
  },
  "language_info": {
   "codemirror_mode": {
    "name": "ipython",
    "version": 3
   },
   "file_extension": ".py",
   "mimetype": "text/x-python",
   "name": "python",
   "nbconvert_exporter": "python",
   "pygments_lexer": "ipython3",
   "version": "3.11.5"
  }
 },
 "nbformat": 4,
 "nbformat_minor": 2
}
