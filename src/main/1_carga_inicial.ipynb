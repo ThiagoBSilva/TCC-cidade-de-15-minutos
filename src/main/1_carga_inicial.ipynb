{
 "cells": [
  {
   "cell_type": "code",
   "execution_count": null,
   "metadata": {},
   "outputs": [],
   "source": [
    "from component.CargaInicialComponent import CargaInicialComponent\n",
    "from model.constants.ParametrosConstantes import ParametrosConstantes\n",
    "from service.CargaInicialService import CargaInicialService\n",
    "from service.MunicipioService import MunicipioService\n",
    "from service.UnidadeFederativaService import UnidadeFederativaService\n",
    "from service.client.IBGEClientService import IBGEClientService\n",
    "from util.BancoDadosUtil import BancoDadosUtil\n",
    "from util.LoggerUtil import LoggerUtil\n",
    "from util.OSUtil import OSUtil\n",
    "from util.WarningUtil import WarningUtil"
   ]
  },
  {
   "cell_type": "code",
   "execution_count": null,
   "metadata": {},
   "outputs": [],
   "source": [
    "# Configurações iniciais\n",
    "\n",
    "WarningUtil.ignorar_warning(categoria=DeprecationWarning)\n",
    "WarningUtil.ignorar_warning(categoria=UserWarning)\n",
    "\n",
    "OSUtil.criar_diretorio(diretorio=ParametrosConstantes.DIRETORIO_DADOS)\n",
    "OSUtil.criar_diretorio(diretorio=ParametrosConstantes.DIRETORIO_LOGS)\n",
    "\n",
    "log = LoggerUtil.configurar_logger(arquivo_log=ParametrosConstantes.CAMINHO_ARQUIVO_LOG_CARGA_INICIAL)"
   ]
  },
  {
   "cell_type": "code",
   "execution_count": null,
   "metadata": {},
   "outputs": [],
   "source": [
    "log.info(msg=\"Iniciando o processamento da carga inicial.\")\n",
    "\n",
    "conexao_bd = BancoDadosUtil.estabelecer_conexao_banco()\n",
    "carga_inicial_component = CargaInicialComponent()\n",
    "carga_inicial_service = CargaInicialService()\n",
    "ibge_client_service = IBGEClientService()\n",
    "municipio_service = MunicipioService()\n",
    "unidade_federativa_service = UnidadeFederativaService()"
   ]
  },
  {
   "cell_type": "code",
   "execution_count": null,
   "metadata": {},
   "outputs": [],
   "source": [
    "log.info(msg=\"Inicializando o banco de dados.\")\n",
    "\n",
    "carga_inicial_service.dropar_tabelas_banco(conexao_bd)\n",
    "carga_inicial_service.criar_tabelas_banco(conexao_bd)\n",
    "carga_inicial_service.popular_tabelas_iniciais(conexao_bd)"
   ]
  },
  {
   "cell_type": "code",
   "execution_count": null,
   "metadata": {},
   "outputs": [],
   "source": [
    "log.info(msg=\"Obtendo os shapefiles das unidades federativas e dos municípios.\")\n",
    "\n",
    "ibge_client_service.obter_shapefile_unidades_federativas()\n",
    "ibge_client_service.obter_shapefile_municipios()"
   ]
  },
  {
   "cell_type": "code",
   "execution_count": null,
   "metadata": {},
   "outputs": [],
   "source": [
    "log.info(msg=\"Montando os dados iniciais para a carga.\")\n",
    "\n",
    "gdf_unidade_federativa, gdf_municipio = carga_inicial_component.montar_carga_inicial()"
   ]
  },
  {
   "cell_type": "code",
   "execution_count": null,
   "metadata": {},
   "outputs": [],
   "source": [
    "log.info(msg=\"Persistindo os dados na base.\")\n",
    "\n",
    "unidade_federativa_service.salvar_geodataframe(gdf=gdf_unidade_federativa, conexao_bd=conexao_bd)\n",
    "municipio_service.salvar_geodataframe(gdf=gdf_municipio, conexao_bd=conexao_bd)"
   ]
  },
  {
   "cell_type": "code",
   "execution_count": null,
   "metadata": {},
   "outputs": [],
   "source": [
    "log.info(msg=\"Encerrando a conexão com o banco de dados.\")\n",
    "\n",
    "BancoDadosUtil.encerrar_conexao_banco(conexao_bd)"
   ]
  }
 ],
 "metadata": {
  "kernelspec": {
   "display_name": "base",
   "language": "python",
   "name": "python3"
  },
  "language_info": {
   "codemirror_mode": {
    "name": "ipython",
    "version": 3
   },
   "file_extension": ".py",
   "mimetype": "text/x-python",
   "name": "python",
   "nbconvert_exporter": "python",
   "pygments_lexer": "ipython3",
   "version": "3.11.5"
  }
 },
 "nbformat": 4,
 "nbformat_minor": 2
}
