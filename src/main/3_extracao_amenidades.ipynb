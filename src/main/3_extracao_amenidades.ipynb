{
 "cells": [
  {
   "cell_type": "code",
   "execution_count": null,
   "metadata": {},
   "outputs": [],
   "source": [
    "from component.ExtracaoAmenidadesComponent import ExtracaoAmenidadesComponent\n",
    "from model.constants.ParametrosConstantes import ParametrosConstantes\n",
    "from service.FeicaoOSMService import FeicaoOSMService\n",
    "from service.MunicipioService import MunicipioService\n",
    "from util.BancoDadosUtil import BancoDadosUtil\n",
    "from util.DataFrameUtil import DataFrameUtil\n",
    "from util.LoggerUtil import LoggerUtil\n",
    "from util.OSUtil import OSUtil\n",
    "from util.OSMNXUtil import OSMNXUtil\n",
    "from util.WarningUtil import WarningUtil\n",
    "\n",
    "from pandas import DataFrame\n",
    "from time import sleep"
   ]
  },
  {
   "cell_type": "code",
   "execution_count": null,
   "metadata": {},
   "outputs": [],
   "source": [
    "# Configurações iniciais\n",
    "\n",
    "OSMNXUtil.configurar_osmnx()\n",
    "\n",
    "WarningUtil.ignorar_warning(categoria=DeprecationWarning)\n",
    "WarningUtil.ignorar_warning(categoria=UserWarning)\n",
    "\n",
    "log = LoggerUtil.configurar_logger(arquivo_log=ParametrosConstantes.CAMINHO_LOG_EXTRACAO_AMENIDADES)"
   ]
  },
  {
   "cell_type": "code",
   "execution_count": null,
   "metadata": {},
   "outputs": [],
   "source": [
    "extracao_amenidades_component = ExtracaoAmenidadesComponent()\n",
    "feicao_osm_service = FeicaoOSMService()\n",
    "municipio_service = MunicipioService()"
   ]
  },
  {
   "cell_type": "code",
   "execution_count": null,
   "metadata": {},
   "outputs": [],
   "source": [
    "while True:\n",
    "    log.info(msg=\"Iniciando o processo de extração das amenidades dos municípios.\")\n",
    "    conexao_bd = BancoDadosUtil.estabelecer_conexao_banco()\n",
    "\n",
    "    if extracao_amenidades_component.verificar_nao_existencia_registros_pendentes(conexao_bd):\n",
    "        log.info(msg=\"Encerrando a conexão com o banco de dados.\")\n",
    "        BancoDadosUtil.encerrar_conexao_banco(conexao_bd)\n",
    "        \n",
    "        break\n",
    "    \n",
    "    log.info(msg=f\"Buscando os próximos {ParametrosConstantes.BATCH_QTDE_REGISTROS_ETAPA_EXTRACAO_AMENIDADES} municípios a serem processados.\")\n",
    "\n",
    "    gdf_municipio = municipio_service.buscar_registros_pendentes_extracao_amenidades(conexao_bd)\n",
    "    df_tags_osm = feicao_osm_service.buscar_tags_osm_ativas(conexao_bd)\n",
    "\n",
    "    df_tags_osm[\"tag_osm\"] = extracao_amenidades_component.ajustar_coluna_tag_osm(df_tags_osm)\n",
    "\n",
    "    log.info(msg=\"Extraindo as amenidades dos municípios.\")\n",
    "\n",
    "    df_resultado = DataFrameUtil.processar_dataframe_dask(\n",
    "        df=gdf_municipio,\n",
    "        funcao=extracao_amenidades_component.processar_particao_dask,\n",
    "        meta=DataFrame(columns=[\"codigo_municipio\", \"lista_dict_amenidade_municipio\", \"lista_dict_historico_erro\", \"status\"]),\n",
    "        qtde_particoes=ParametrosConstantes.BATCH_QTDE_PARTICOES_DASK_ETAPA_EXTRACAO_AMENIDADES,\n",
    "        df_tags_osm=df_tags_osm\n",
    "    )\n",
    "\n",
    "    extracao_amenidades_component.persistir_resultado(df_resultado, conexao_bd)\n",
    "\n",
    "    if ParametrosConstantes.OSMXN_USAR_CACHE and ParametrosConstantes.OSMNX_LIMPAR_CACHE:\n",
    "        OSUtil.deletar_diretorio(diretorio=ParametrosConstantes.DIRETORIO_CACHE_OSMNX)\n",
    "\n",
    "    log.info(msg=\"Encerrando a conexão com o banco de dados.\")\n",
    "    BancoDadosUtil.encerrar_conexao_banco(conexao_bd)\n",
    "\n",
    "    sleep(10)"
   ]
  }
 ],
 "metadata": {
  "kernelspec": {
   "display_name": "base",
   "language": "python",
   "name": "python3"
  },
  "language_info": {
   "codemirror_mode": {
    "name": "ipython",
    "version": 3
   },
   "file_extension": ".py",
   "mimetype": "text/x-python",
   "name": "python",
   "nbconvert_exporter": "python",
   "pygments_lexer": "ipython3",
   "version": "3.11.5"
  }
 },
 "nbformat": 4,
 "nbformat_minor": 2
}
