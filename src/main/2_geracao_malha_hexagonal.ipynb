{
 "cells": [
  {
   "cell_type": "code",
   "execution_count": null,
   "metadata": {},
   "outputs": [],
   "source": [
    "from component.GeracaoMalhaHexagonalComponent import GeracaoMalhaHexagonalComponent\n",
    "from model.constants.ParametrosConstantes import ParametrosConstantes\n",
    "from service.MunicipioService import MunicipioService\n",
    "from util.BancoDadosUtil import BancoDadosUtil\n",
    "from util.DataFrameUtil import DataFrameUtil\n",
    "from util.LoggerUtil import LoggerUtil\n",
    "from util.WarningUtil import WarningUtil\n",
    "\n",
    "from pandas import DataFrame\n",
    "from time import sleep"
   ]
  },
  {
   "cell_type": "code",
   "execution_count": null,
   "metadata": {},
   "outputs": [],
   "source": [
    "# Configurações iniciais\n",
    "\n",
    "WarningUtil.ignorar_warning(categoria=DeprecationWarning)\n",
    "WarningUtil.ignorar_warning(categoria=UserWarning)\n",
    "\n",
    "log = LoggerUtil.configurar_logger(arquivo_log=ParametrosConstantes.CAMINHO_LOG_GERACAO_MALHA_HEXAGONAL)"
   ]
  },
  {
   "cell_type": "code",
   "execution_count": null,
   "metadata": {},
   "outputs": [],
   "source": [
    "log.info(msg=\"Iniciando o processo de geração da malha hexagonal dos municípios.\")\n",
    "\n",
    "conexao_bd = BancoDadosUtil.estabelecer_conexao_banco()\n",
    "\n",
    "geracao_malha_hexagonal_component = GeracaoMalhaHexagonalComponent()\n",
    "municipio_service = MunicipioService()"
   ]
  },
  {
   "cell_type": "code",
   "execution_count": null,
   "metadata": {},
   "outputs": [],
   "source": [
    "while True:\n",
    "    if geracao_malha_hexagonal_component.verificar_nao_existencia_registros_pendentes(conexao_bd):\n",
    "        break\n",
    "\n",
    "    log.info(msg=f\"Buscando os próximos {ParametrosConstantes.BATCH_QTDE_REGISTROS_ETAPA_GERACAO_MALHA} municípios a serem processados.\")\n",
    "\n",
    "    gdf_municipio = municipio_service.buscar_registros_pendentes_geracao_malha_hexagonal(conexao_bd)\n",
    "\n",
    "    log.info(msg=\"Gerando a malha hexagonal dos municípios.\")\n",
    "\n",
    "    df_resultado = DataFrameUtil.processar_dataframe_dask(\n",
    "        df=gdf_municipio, \n",
    "        funcao=geracao_malha_hexagonal_component.processar_particao_dask, \n",
    "        meta=DataFrame(columns=[\"codigo_municipio\", \"lista_dict_malha_hexagonal\", \"lista_dict_historico_erro\", \"status\"]),\n",
    "        qtde_particoes=ParametrosConstantes.BATCH_QTDE_PARTICOES_DASK_ETAPA_GERACAO_MALHA\n",
    "    )\n",
    "\n",
    "    geracao_malha_hexagonal_component.persistir_resultado(df_resultado, conexao_bd)\n",
    "    sleep(10)"
   ]
  },
  {
   "cell_type": "code",
   "execution_count": null,
   "metadata": {},
   "outputs": [],
   "source": [
    "BancoDadosUtil.encerrar_conexao_banco(conexao_bd)"
   ]
  }
 ],
 "metadata": {
  "kernelspec": {
   "display_name": "base",
   "language": "python",
   "name": "python3"
  },
  "language_info": {
   "codemirror_mode": {
    "name": "ipython",
    "version": 3
   },
   "file_extension": ".py",
   "mimetype": "text/x-python",
   "name": "python",
   "nbconvert_exporter": "python",
   "pygments_lexer": "ipython3",
   "version": "3.11.5"
  }
 },
 "nbformat": 4,
 "nbformat_minor": 2
}
